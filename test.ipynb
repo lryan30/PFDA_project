{
 "cells": [
  {
   "cell_type": "markdown",
   "metadata": {},
   "source": [
    "WINDSPEED"
   ]
  },
  {
   "cell_type": "markdown",
   "metadata": {},
   "source": [
    "Ireland is one of the best locations in Europe for wind energy and the country is rapidly expanding its wind energy capacity. \n",
    "-   Analyse windspeed data from different regions of Ireland to identify the most efficient areas for wind turbines. \n",
    "-   compare windspeed data, analyse seasonal patterns and simulate the energy output from wind turbines in various locations. "
   ]
  },
  {
   "cell_type": "markdown",
   "metadata": {},
   "source": [
    "test \n",
    "-   cut-in wind speed = 3m/s\n",
    "-   rated wind speed = 12m/s\n",
    "-   cut-out windspeed = 25 m/s\n",
    "-   rater power = 1500kW (just for illustration)\n",
    "\n",
    "The power curve will be a simple cubic relationship between wind speed and power output  "
   ]
  }
 ],
 "metadata": {
  "kernelspec": {
   "display_name": "base",
   "language": "python",
   "name": "python3"
  },
  "language_info": {
   "codemirror_mode": {
    "name": "ipython",
    "version": 3
   },
   "file_extension": ".py",
   "mimetype": "text/x-python",
   "name": "python",
   "nbconvert_exporter": "python",
   "pygments_lexer": "ipython3",
   "version": "3.12.7"
  }
 },
 "nbformat": 4,
 "nbformat_minor": 2
}
